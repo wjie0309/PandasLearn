{
 "cells": [
  {
   "cell_type": "markdown",
   "id": "a3c1694a",
   "metadata": {},
   "source": [
    "# PandasLearn\n",
    "\n",
    "## 预备知识\n",
    "\n",
    "### 列表推导式\n",
    "\n",
    "列表推导式本质上是一个简化的循环, 表达形式通常为 `[* for i in *]`. 其中第一个 * 为推导式的主体函数, 第二个 * 为迭代对象.\n",
    "\n",
    "列表同样可以写出二维数组: `[[* for i in *] for j in *]`.\n",
    "\n",
    "在列表中同样可以根据多个迭代对象嵌套循环.\n",
    "\n",
    "`[m+'_'+n for m in ['a', 'b'] for n in ['c', 'd']]`\n",
    "\n",
    "### 匿名函数与 map\n",
    "\n",
    "匿名函数是 python 中定义数据间的映射关系的方式. 顾名思义, 匿名函数的定义方式不需要命名, 不过当然也可以将函数先储存起来为了方便使用.\n",
    "\n",
    "匿名函数的格式为: `lambda x: f(x)(object)`, 其中第二个括号内为函数作用的对象, 调用方法与常规的函数方式相同.\n",
    "\n",
    "`map` 函数可以实现对列表推导式作用匿名函数定义的映射. map 方法返回的是一个 map 对象, 可以使用 list() 转化为数组.\n",
    "\n",
    "e.g. `list(map(lambda x: 2*x, range(5)))`\n",
    "\n",
    "### zip & enumerate\n",
    "\n",
    "zip 可以将多个可迭代对象打包为一个 zip 对象, 此对象由多个 tuple 构成. zip 方法也可以用于绑定字典映射等等.\n",
    "\n",
    "`dict(zip(L1, L2))`\n",
    "\n",
    "zip 常常在循环的时候使用: `for i, j, k in zip(L1, L2, L3)`\n",
    "\n",
    "enumerate 是一种把列表的序列和值绑定的打包方式, 使用方法与 zip 方法相同.\n",
    "\n",
    "python 中提供了 * 操作符来解绑 zip 的对象, 从而得到两个列表.\n"
   ]
  },
  {
   "cell_type": "markdown",
   "id": "55a600ee",
   "metadata": {},
   "source": [
    "### np 数组的构造\n",
    "\n",
    "- 等差序列: `np.linspace`, `np.arange`\n",
    "- 特殊矩阵: `zeros`, `eye`, `full`\n",
    "- 随机矩阵： `np.random`\n",
    "\t-  `rand, randn, randint, choice` 分别为均匀分布的随机数组、标准正态的随机数组、随机整数组和随机列表抽样.\n",
    "\t- 使用随机数种子可以固定随机数的输出结果 `np.random.seed()`\n",
    "    \n",
    "### np数组的变形与合并\n",
    "\n",
    "- 转置: `T`\n",
    "- 合并: `r_`, `c_`  分别为按行合并与按列合并 (上下合并, 左右合并)\n",
    "- reshape\n",
    "\t- reshape 在使用时可以定义新数组的维度参数, 用数组表征多维数组, 用 `-1` 表征一维数组. 在读取二维数组时 reshape 被分为 C 和 F 模式, C 为逐行读取, F 为逐列读取.\n",
    "\n",
    "### 切片和索引\n",
    "\n",
    "- 切片: `nums[:-1, [0,2]]`\n",
    "- 布尔索引: 在二维数组上使用 `np.ix_` 可以在对应的维度使用布尔索引, 此时是不能用切片的.\n",
    "\t- `target[np.ix_([True, False, True], [True, False, True])]`\n",
    "    \n",
    "### numpy 常用函数\n",
    "\n",
    "- where: 可以指定满足特定条件与不满足条件时的位置对应的填充值.\n",
    "- 取索引\n",
    "\t- nonzero: 取非零值的索引\n",
    "\t- argmax: 取最大值索引\n",
    "\t- argmin: 取最小值索引\n",
    "- any, all: 这两个函数为判定数组中是否有非空值的判定函数, 一个为存在一个为任意\n",
    "- `cumprod`, `cumsum`, `diff`\n",
    "\t- `cumprod`, `cumsum`分别表示累乘和累加函数, 返回同长度的数组, `diff`表示和前一个元素做差, 由于第一个元素为缺失值, 因此在默认参数情况下, 返回长度是原数组减1.\n",
    "- 统计函数\n",
    "\t- 常用的统计函数包括 `max, min, mean, median, std, var, sum, quantile`\n",
    "\t- 对于含 nan 值的数组, 这些统计函数一般都有对应 nan 的函数版本, 书写格式常为 nan+函数名, e.g. nanmax\n",
    "\t- 值得注意的时, 像 quantile 一样的函数不能直接对对象调用, 这种为全局函数, 需要直接调用, 然后再选定参数来使用.\n",
    "\t- 对于协方差和相关系数分别可以利用`cov, corrcoef`计算\n",
    "\t- 二维`Numpy`数组中统计函数的`axis`参数, 它能够进行某一个维度下的统计特征计算, 当`axis=0`时结果为列的统计指标, 当`axis=1`时结果为行的统计指标.\n",
    "\n",
    "### 矩阵运算\n",
    "\n",
    "- 内积: `dot`\n",
    "- 矩阵相乘: `@`\n",
    "- 向量范数和矩阵范数: `np.linalg.norm`"
   ]
  },
  {
   "cell_type": "markdown",
   "id": "b0cf3dd0",
   "metadata": {},
   "source": [
    "## 三、练习\n",
    "### Ex1：利用列表推导式写矩阵乘法\n",
    "一般的矩阵乘法根据公式，可以由三重循环写出，请将其改写为列表推导式的形式。"
   ]
  },
  {
   "cell_type": "code",
   "execution_count": 1,
   "id": "7fb33228",
   "metadata": {},
   "outputs": [
    {
     "data": {
      "text/plain": [
       "True"
      ]
     },
     "execution_count": 1,
     "metadata": {},
     "output_type": "execute_result"
    }
   ],
   "source": [
    "import numpy as np\n",
    "\n",
    "\n",
    "M1 = np.random.rand(2,3)\n",
    "M2 = np.random.rand(3,4)\n",
    "res = np.empty((M1.shape[0],M2.shape[1]))\n",
    "\n",
    "# for i in range(M1.shape[0]):\n",
    "#     for j in range(M2.shape[1]):\n",
    "#         item = 0\n",
    "#         for k in range(M1.shape[1]):\n",
    "#             item += M1[i][k] * M2[k][j]\n",
    "#         res[i][j] = item\n",
    "\n",
    "res = [[sum([M1[i][k] * M2[k][j] for k in range(M1.shape[1])]) for j in range(M2.shape[1])] for i in range(M1.shape[0])]\n",
    "\n",
    "(np.abs((M1@M2 - res) < 1e-15)).all() # 排除数值误差"
   ]
  },
  {
   "cell_type": "markdown",
   "id": "0827db6a",
   "metadata": {},
   "source": [
    "### Ex2：更新矩阵\n",
    "设矩阵 $A_{m×n}$ ，现在对 $A$ 中的每一个元素进行更新生成矩阵 $B$ ，更新方法是 $B_{ij}=A_{ij}\\sum_{k=1}^n\\frac{1}{A_{ik}}$ ，例如下面的矩阵为 $A$ ，则 $B_{2,2}=5\\times(\\frac{1}{4}+\\frac{1}{5}+\\frac{1}{6})=\\frac{37}{12}$ ，请利用 `Numpy` 高效实现。\n",
    "$$\\begin{split}A=\\left[ \\begin{matrix} 1 & 2 &3\\\\4&5&6\\\\7&8&9 \\end{matrix} \\right]\\end{split}$$"
   ]
  },
  {
   "cell_type": "code",
   "execution_count": 8,
   "id": "4b23a72a",
   "metadata": {},
   "outputs": [
    {
     "data": {
      "text/plain": [
       "array([[1.83333333, 3.66666667, 5.5       ],\n",
       "       [2.46666667, 3.08333333, 3.7       ],\n",
       "       [2.65277778, 3.03174603, 3.41071429]])"
      ]
     },
     "execution_count": 8,
     "metadata": {},
     "output_type": "execute_result"
    }
   ],
   "source": [
    "m, n = 3,3\n",
    "A = np.arange(1,10).reshape(m, n)  # 代入例子中的矩阵\n",
    "B = A * (1/A).sum(axis=1).reshape(-1,1)  # 求和后需要把行向量变成列向量, 这样广播后能够得到理想的结果\n",
    "B"
   ]
  },
  {
   "cell_type": "markdown",
   "id": "b388a805",
   "metadata": {},
   "source": [
    "### Ex3：卡方统计量\n",
    "\n",
    "设矩阵$A_{m\\times n}$，记$B_{ij} = \\frac{(\\sum_{i=1}^mA_{ij})\\times (\\sum_{j=1}^nA_{ij})}{\\sum_{i=1}^m\\sum_{j=1}^nA_{ij}}$，定义卡方值如下：\n",
    "$$\\chi^2 = \\sum_{i=1}^m\\sum_{j=1}^n\\frac{(A_{ij}-B_{ij})^2}{B_{ij}}$$\n",
    "请利用`Numpy`对给定的矩阵$A$计算$\\chi^2$ "
   ]
  },
  {
   "cell_type": "code",
   "execution_count": 46,
   "id": "cc033ec9",
   "metadata": {},
   "outputs": [
    {
     "data": {
      "text/plain": [
       "11.842696601945802"
      ]
     },
     "execution_count": 46,
     "metadata": {},
     "output_type": "execute_result"
    }
   ],
   "source": [
    "np.random.seed(0)\n",
    "A = np.random.randint(10, 20, (8, 5))\n",
    "B = A.sum(1).reshape(-1,1) * A.sum(0) / A.sum() # 广播时注意行乘积结果需要转置一下, 使用 A.sum() 不加参数时默认直接全部求和得到一个数值\n",
    "# 这里我之前想使用 .T 的转置来实现这一步转置, 但我忽略了一开始的求和结果是一维数组, 一维数组的转置是其本身, 因此这里要用 reshape 来处理\n",
    "# print(B, B.shape)\n",
    "ka = ((A - B)**2 / B).sum()\n",
    "ka"
   ]
  },
  {
   "cell_type": "markdown",
   "id": "49750ae3",
   "metadata": {},
   "source": [
    "### Ex4：改进矩阵计算的性能\n",
    "设$Z$为$m×n$的矩阵，$B$和$U$分别是$m×p$和$p×n$的矩阵，$B_i$为$B$的第$i$行，$U_j$为$U$的第$j$列，下面定义$\\displaystyle R=\\sum_{i=1}^m\\sum_{j=1}^n\\|B_i-U_j\\|_2^2Z_{ij}$，其中$\\|\\mathbf{a}\\|_2^2$表示向量$a$的分量平方和$\\sum_i a_i^2$。\n",
    "\n",
    "现有某人根据如下给定的样例数据计算$R$的值，请充分利用`Numpy`中的函数，基于此问题改进这段代码的性能。"
   ]
  },
  {
   "cell_type": "code",
   "execution_count": 6,
   "id": "34048683",
   "metadata": {},
   "outputs": [
    {
     "data": {
      "text/plain": [
       "100566"
      ]
     },
     "execution_count": 6,
     "metadata": {},
     "output_type": "execute_result"
    }
   ],
   "source": [
    "np.random.seed(0)\n",
    "m, n, p = 100, 80, 50\n",
    "B = np.random.randint(0, 2, (m, p))\n",
    "U = np.random.randint(0, 2, (p, n))\n",
    "Z = np.random.randint(0, 2, (m, n))\n",
    "def solution(B=B, U=U, Z=Z):\n",
    "#     L_res = []\n",
    "#     for i in range(m):\n",
    "#         for j in range(n):\n",
    "#             norm_value = ((B[i]-U[:,j])**2).sum()\n",
    "#             L_res.append(norm_value*Z[i][j])\n",
    "#     return sum(L_res)\n",
    "    # 关键是 R 矩阵的计算的简化, 使用 numpy 的优势是优秀的广播机制等来减少循环的次数, \n",
    "    # 所求的平方可以展开, 就会得到 B 和 U 对应值的平方和减去二者的外积\n",
    "    L_res = (((B**2).sum(1).reshape(-1,1) + (U**2).sum(0) - 2*B@U)*Z).sum()\n",
    "    return L_res\n",
    "\n",
    "solution(B, U, Z)"
   ]
  },
  {
   "cell_type": "markdown",
   "id": "cbd7dbaa",
   "metadata": {},
   "source": [
    "### Ex5：连续整数的最大长度\n",
    "\n",
    "输入一个整数的`Numpy`数组，返回其中严格递增连续整数子数组的最大长度，正向是指递增方向。例如，输入\\[1,2,5,6,7\\]，\\[5,6,7\\]为具有最大长度的连续整数子数组，因此输出3；输入\\[3,2,1,2,3,4,6\\]，\\[1,2,3,4\\]为具有最大长度的连续整数子数组，因此输出4。请充分利用`Numpy`的内置函数完成。（提示：考虑使用`nonzero, diff`函数）"
   ]
  },
  {
   "cell_type": "code",
   "execution_count": 24,
   "id": "ad5accf6",
   "metadata": {},
   "outputs": [
    {
     "name": "stdout",
     "output_type": "stream",
     "text": [
      "4\n",
      "5\n"
     ]
    }
   ],
   "source": [
    "def f(nums: list):\n",
    "    return np.diff(np.nonzero(np.r_[1, np.diff(nums)!=1, 1])).max()\n",
    "\n",
    "print(f([1, 2, 3, 5, 6, 7, 8]))\n",
    "print(f([1, 3, 5, 6, 7, 8, 9]))"
   ]
  },
  {
   "cell_type": "markdown",
   "id": "75c2455c",
   "metadata": {},
   "source": [
    "### 补充习题\n",
    "\n",
    "- 给定一个正整数列表，请找出缺失的最小正整数。\n",
    "\n",
    "e.g. \n",
    "```python\n",
    "arr = np.array([2,3,4])\n",
    "get_miss(arr)\n",
    "1\n",
    "arr = np.array([6,3,5,1,2])\n",
    "get_miss(arr)\n",
    "4\n",
    "arr = np.array([5,2,1,3,4])\n",
    "get_miss(arr)\n",
    "6\n",
    "```"
   ]
  },
  {
   "cell_type": "code",
   "execution_count": 41,
   "id": "287f5116",
   "metadata": {},
   "outputs": [
    {
     "ename": "TypeError",
     "evalue": "unsupported operand type(s) for -: 'NoneType' and 'int'",
     "output_type": "error",
     "traceback": [
      "\u001b[1;31m---------------------------------------------------------------------------\u001b[0m",
      "\u001b[1;31mTypeError\u001b[0m                                 Traceback (most recent call last)",
      "\u001b[1;32m~\\AppData\\Local\\Temp/ipykernel_27892/1837032596.py\u001b[0m in \u001b[0;36m<module>\u001b[1;34m\u001b[0m\n\u001b[0;32m      6\u001b[0m \u001b[1;31m# np.r_[(np.diff(np.r_[0, (arr).sort(), max(arr)+2]) != 1)]\u001b[0m\u001b[1;33m\u001b[0m\u001b[1;33m\u001b[0m\u001b[0m\n\u001b[0;32m      7\u001b[0m \u001b[1;33m\u001b[0m\u001b[0m\n\u001b[1;32m----> 8\u001b[1;33m \u001b[0mnp\u001b[0m\u001b[1;33m.\u001b[0m\u001b[0mdiff\u001b[0m\u001b[1;33m(\u001b[0m\u001b[0mnp\u001b[0m\u001b[1;33m.\u001b[0m\u001b[0mr_\u001b[0m\u001b[1;33m[\u001b[0m\u001b[1;36m0\u001b[0m\u001b[1;33m,\u001b[0m \u001b[1;33m(\u001b[0m\u001b[0marr\u001b[0m\u001b[1;33m)\u001b[0m\u001b[1;33m.\u001b[0m\u001b[0msort\u001b[0m\u001b[1;33m(\u001b[0m\u001b[1;33m)\u001b[0m\u001b[1;33m,\u001b[0m \u001b[0mmax\u001b[0m\u001b[1;33m(\u001b[0m\u001b[0marr\u001b[0m\u001b[1;33m)\u001b[0m\u001b[1;33m+\u001b[0m\u001b[1;36m2\u001b[0m\u001b[1;33m]\u001b[0m\u001b[1;33m)\u001b[0m\u001b[1;33m\u001b[0m\u001b[1;33m\u001b[0m\u001b[0m\n\u001b[0m",
      "\u001b[1;32m<__array_function__ internals>\u001b[0m in \u001b[0;36mdiff\u001b[1;34m(*args, **kwargs)\u001b[0m\n",
      "\u001b[1;32m~\\AppData\\Roaming\\Python\\Python39\\site-packages\\numpy\\lib\\function_base.py\u001b[0m in \u001b[0;36mdiff\u001b[1;34m(a, n, axis, prepend, append)\u001b[0m\n\u001b[0;32m   1290\u001b[0m     \u001b[0mop\u001b[0m \u001b[1;33m=\u001b[0m \u001b[0mnot_equal\u001b[0m \u001b[1;32mif\u001b[0m \u001b[0ma\u001b[0m\u001b[1;33m.\u001b[0m\u001b[0mdtype\u001b[0m \u001b[1;33m==\u001b[0m \u001b[0mnp\u001b[0m\u001b[1;33m.\u001b[0m\u001b[0mbool_\u001b[0m \u001b[1;32melse\u001b[0m \u001b[0msubtract\u001b[0m\u001b[1;33m\u001b[0m\u001b[1;33m\u001b[0m\u001b[0m\n\u001b[0;32m   1291\u001b[0m     \u001b[1;32mfor\u001b[0m \u001b[0m_\u001b[0m \u001b[1;32min\u001b[0m \u001b[0mrange\u001b[0m\u001b[1;33m(\u001b[0m\u001b[0mn\u001b[0m\u001b[1;33m)\u001b[0m\u001b[1;33m:\u001b[0m\u001b[1;33m\u001b[0m\u001b[1;33m\u001b[0m\u001b[0m\n\u001b[1;32m-> 1292\u001b[1;33m         \u001b[0ma\u001b[0m \u001b[1;33m=\u001b[0m \u001b[0mop\u001b[0m\u001b[1;33m(\u001b[0m\u001b[0ma\u001b[0m\u001b[1;33m[\u001b[0m\u001b[0mslice1\u001b[0m\u001b[1;33m]\u001b[0m\u001b[1;33m,\u001b[0m \u001b[0ma\u001b[0m\u001b[1;33m[\u001b[0m\u001b[0mslice2\u001b[0m\u001b[1;33m]\u001b[0m\u001b[1;33m)\u001b[0m\u001b[1;33m\u001b[0m\u001b[1;33m\u001b[0m\u001b[0m\n\u001b[0m\u001b[0;32m   1293\u001b[0m \u001b[1;33m\u001b[0m\u001b[0m\n\u001b[0;32m   1294\u001b[0m     \u001b[1;32mreturn\u001b[0m \u001b[0ma\u001b[0m\u001b[1;33m\u001b[0m\u001b[1;33m\u001b[0m\u001b[0m\n",
      "\u001b[1;31mTypeError\u001b[0m: unsupported operand type(s) for -: 'NoneType' and 'int'"
     ]
    }
   ],
   "source": [
    "# def get_miss(arr):\n",
    "#     return np.nonzero(np.r_[np.diff(np.r_[0, (arr).sort(), max(arr)+2]) != 1])\n",
    "\n",
    "# get_miss(np.array([1,2,5,4,6]))\n",
    "arr = np.array([1,2,5,4,6])\n",
    "# np.r_[(np.diff(np.r_[0, (arr).sort(), max(arr)+2]) != 1)]\n",
    "\n",
    "np.diff(np.r_[0, (arr).sort(), max(arr)+2])"
   ]
  }
 ],
 "metadata": {
  "kernelspec": {
   "display_name": "Python 3 (ipykernel)",
   "language": "python",
   "name": "python3"
  },
  "language_info": {
   "codemirror_mode": {
    "name": "ipython",
    "version": 3
   },
   "file_extension": ".py",
   "mimetype": "text/x-python",
   "name": "python",
   "nbconvert_exporter": "python",
   "pygments_lexer": "ipython3",
   "version": "3.9.7"
  },
  "vscode": {
   "interpreter": {
    "hash": "e42634819b8c191a5d07eaf23810ff32516dd8d3875f28ec3e488928fbd3c187"
   }
  }
 },
 "nbformat": 4,
 "nbformat_minor": 5
}
