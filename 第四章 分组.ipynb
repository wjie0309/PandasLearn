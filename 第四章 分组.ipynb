{
 "cells": [
  {
   "cell_type": "code",
   "execution_count": 1,
   "metadata": {},
   "outputs": [],
   "source": [
    "import numpy as np\n",
    "import pandas as pd"
   ]
  },
  {
   "cell_type": "markdown",
   "metadata": {},
   "source": [
    "## 第四章 分组"
   ]
  },
  {
   "cell_type": "markdown",
   "metadata": {},
   "source": [
    "## 分组\n",
    "\n",
    "### 分组\n",
    "\n",
    "分组是数据处理中的重要部分, 通过把特定类型的数据进行分组, 来实现更加高效的数据处理.\n",
    "\n",
    "#### 分组的一般模式\n",
    "\n",
    "分组操作需要确定三个要素: 分组依据, 数据来源, 操作以及返回结果\n",
    "\n",
    "使用 `df.groupby()` 函数实现分组.\n",
    "\n",
    "#### groupby 对象\n",
    "\n",
    "- 通过 ngroup 属性, 可以得到分组个数\n",
    "- 通过 groups 属性, 可以返回 组名 映射到 组索引列表 的字典\n",
    "- 通过 get_group 属性, 可以获取所在组对应的行\n",
    "- 同样 groupby 对象还可以使用 DataFrame 的属性方法, 如 size 等\n",
    "\n",
    "分组同样具有几种常用的操作, 下面就要分别介绍相应的 `agg`, `transform` 和 `filter` 函数及其操作.\n",
    "\n",
    "### 聚合函数\n",
    "\n",
    "#### 内置聚合函数\n",
    "\n",
    "内置聚合函数和 DF 数据格式的数据类似, 是将列表中数据统计, 从而从一行或一列中得到一个数值的函数. 常用的统计函数如 \n",
    "\n",
    "`max/min/mean/median/count/all/any/idxmax/idxmin/mad/nunique/skew/quantile/sum/std/var/sem/size/prod`\n",
    "\n",
    "都属于聚合函数.\n",
    "\n",
    "#### agg 方法\n",
    "\n",
    "虽然在`groupby`对象上定义了许多方便的函数，但仍然有以下不便之处：\n",
    "\n",
    "* 无法同时使用多个函数\n",
    "* 无法对特定的列使用特定的聚合函数\n",
    "* 无法使用自定义的聚合函数\n",
    "* 无法直接对结果的列名在聚合前进行自定义命名\n",
    "\n",
    "通过 agg 方法可以实现这些功能\n",
    "\n",
    "- 使用多个函数\n",
    "\n",
    "\t当使用多个聚合函数时，需要用列表的形式把内置聚合函数对应的字符串传入，先前提到的所有字符串都是合法的.\n",
    "\te.g. `gb.agg(['sum', 'idxmax', 'skew'])`\n",
    "\n",
    "- 对特定的列使用特定的聚合函数\n",
    "\n",
    "\t可以通过使用列表的方式进行描述, 可以指定列进行函数操作\n",
    "\te.g. `gb.agg({'Height':['mean','max'], 'Weight':'count'})`\n",
    "\n",
    "- 使用自定义的聚合函数\n",
    "\n",
    "\t只需要在自定义函数的时候保证函数返回的是标量值, 就可以引用自定义函数\n",
    "\t这里需要注意, 自定义函数引用时不需要加引号\n",
    "\n",
    "- 聚合结果重命名\n",
    "\n",
    "\t将上述函数的位置改成 tuple, 其中第一个元素会成为新的名字, 第二个元素为聚合函数的名称, 既可以使用内置聚合函数也可以使用自定义函数\n",
    "\n",
    "### 变换和过滤\n",
    "\n",
    "#### transform 方法\n",
    "\n",
    "变换函数的返回值为同长度的序列, 最常用的内置变换函数是累计函数: `cumcount/cumsum/cumprod/cummax/cummin`, 它们的使用方式和聚合函数类似, 只不过完成的是组内累计操作.\n",
    "\n",
    "使用 transform 方法可以实现自定义的变换函数, 这个函数要求传入数据源的序列, 返回和传入数据一致长度的 DataFrame 结构.\n",
    "\n",
    "在 transform 中的函数返回值为一个标量时也可以运行, 此时会触发标量广播机制. 这种机制在特征工程中很常用, 比如构造两列新特征来分别表示样本所在性别组的身高均值和体重均值.\n",
    "\n",
    "#### 组索引和过滤\n",
    "\n",
    "在之前索引的知识点中, 索引一直都是作为行筛选的方法, 不会对组进行筛选. 因此相对应的, 现在就在这里使用 filter 方法实现组的过滤, 过滤的原理和索引一致, 对数据进行要求, 不符合要求的组不显示.\n",
    "\n",
    "`gb.filter(lambda x: x.shape[0] > 100).head()`\n",
    "\n",
    "### 跨列分组\n",
    "\n",
    "#### apply 方法\n",
    "\n",
    "使用之前提到过的 apply 方法, 可以将自定义函数的功能实现, 此时可以在自定义中自定义一个使用多列数值的聚合函数, 也可以实现跨列分组功能.\n",
    "\n",
    "#### 内置方法\n",
    "\n",
    "在`groupby`对象中还定义了`cov`和`corr`函数，从概念上说也属于跨列的分组处理。请利用之前定义的`gb`对象，使用apply函数实现与`gb.cov()`同样的功能并比较它们的性能。\n"
   ]
  },
  {
   "cell_type": "markdown",
   "metadata": {},
   "source": [
    "## 练习\n",
    "### Ex1：汽车数据集\n",
    "现有一份汽车数据集，其中`Brand, Disp., HP`分别代表汽车品牌、发动机蓄量、发动机输出。"
   ]
  },
  {
   "cell_type": "code",
   "execution_count": 2,
   "metadata": {},
   "outputs": [
    {
     "data": {
      "text/html": [
       "<div>\n",
       "<style scoped>\n",
       "    .dataframe tbody tr th:only-of-type {\n",
       "        vertical-align: middle;\n",
       "    }\n",
       "\n",
       "    .dataframe tbody tr th {\n",
       "        vertical-align: top;\n",
       "    }\n",
       "\n",
       "    .dataframe thead th {\n",
       "        text-align: right;\n",
       "    }\n",
       "</style>\n",
       "<table border=\"1\" class=\"dataframe\">\n",
       "  <thead>\n",
       "    <tr style=\"text-align: right;\">\n",
       "      <th></th>\n",
       "      <th>Brand</th>\n",
       "      <th>Price</th>\n",
       "      <th>Country</th>\n",
       "      <th>Reliability</th>\n",
       "      <th>Mileage</th>\n",
       "      <th>Type</th>\n",
       "      <th>Weight</th>\n",
       "      <th>Disp.</th>\n",
       "      <th>HP</th>\n",
       "    </tr>\n",
       "  </thead>\n",
       "  <tbody>\n",
       "    <tr>\n",
       "      <th>0</th>\n",
       "      <td>Eagle Summit 4</td>\n",
       "      <td>8895</td>\n",
       "      <td>USA</td>\n",
       "      <td>4.0</td>\n",
       "      <td>33</td>\n",
       "      <td>Small</td>\n",
       "      <td>2560</td>\n",
       "      <td>97</td>\n",
       "      <td>113</td>\n",
       "    </tr>\n",
       "    <tr>\n",
       "      <th>1</th>\n",
       "      <td>Ford Escort   4</td>\n",
       "      <td>7402</td>\n",
       "      <td>USA</td>\n",
       "      <td>2.0</td>\n",
       "      <td>33</td>\n",
       "      <td>Small</td>\n",
       "      <td>2345</td>\n",
       "      <td>114</td>\n",
       "      <td>90</td>\n",
       "    </tr>\n",
       "    <tr>\n",
       "      <th>2</th>\n",
       "      <td>Ford Festiva 4</td>\n",
       "      <td>6319</td>\n",
       "      <td>Korea</td>\n",
       "      <td>4.0</td>\n",
       "      <td>37</td>\n",
       "      <td>Small</td>\n",
       "      <td>1845</td>\n",
       "      <td>81</td>\n",
       "      <td>63</td>\n",
       "    </tr>\n",
       "  </tbody>\n",
       "</table>\n",
       "</div>"
      ],
      "text/plain": [
       "             Brand  Price Country  Reliability  Mileage   Type  Weight  Disp.  \\\n",
       "0   Eagle Summit 4   8895     USA          4.0       33  Small    2560     97   \n",
       "1  Ford Escort   4   7402     USA          2.0       33  Small    2345    114   \n",
       "2   Ford Festiva 4   6319   Korea          4.0       37  Small    1845     81   \n",
       "\n",
       "    HP  \n",
       "0  113  \n",
       "1   90  \n",
       "2   63  "
      ]
     },
     "execution_count": 2,
     "metadata": {},
     "output_type": "execute_result"
    }
   ],
   "source": [
    "df = pd.read_csv('./data/car.csv')\n",
    "df.head(3)"
   ]
  },
  {
   "cell_type": "markdown",
   "metadata": {},
   "source": [
    "1. 先过滤出所属`Country`数超过2个的汽车，即若该汽车的`Country`在总体数据集中出现次数不超过2则剔除，再按`Country`分组计算价格均值、价格变异系数、该`Country`的汽车数量，其中变异系数的计算方法是标准差除以均值，并在结果中把变异系数重命名为`CoV`。\n",
    "2. 按照表中位置的前三分之一、中间三分之一和后三分之一分组，统计`Price`的均值。\n",
    "3. 对类型`Type`分组，对`Price`和`HP`分别计算最大值和最小值，结果会产生多级索引，请用下划线把多级列索引合并为单层索引。\n",
    "4. 对类型`Type`分组，对`HP`进行组内的`min-max`归一化。\n",
    "5. 对类型`Type`分组，计算`Disp.`与`HP`的相关系数。"
   ]
  },
  {
   "cell_type": "code",
   "execution_count": 15,
   "metadata": {},
   "outputs": [
    {
     "data": {
      "text/html": [
       "<div>\n",
       "<style scoped>\n",
       "    .dataframe tbody tr th:only-of-type {\n",
       "        vertical-align: middle;\n",
       "    }\n",
       "\n",
       "    .dataframe tbody tr th {\n",
       "        vertical-align: top;\n",
       "    }\n",
       "\n",
       "    .dataframe thead th {\n",
       "        text-align: right;\n",
       "    }\n",
       "</style>\n",
       "<table border=\"1\" class=\"dataframe\">\n",
       "  <thead>\n",
       "    <tr style=\"text-align: right;\">\n",
       "      <th></th>\n",
       "      <th>Cov</th>\n",
       "      <th>mean</th>\n",
       "      <th>count</th>\n",
       "    </tr>\n",
       "    <tr>\n",
       "      <th>Country</th>\n",
       "      <th></th>\n",
       "      <th></th>\n",
       "      <th></th>\n",
       "    </tr>\n",
       "  </thead>\n",
       "  <tbody>\n",
       "    <tr>\n",
       "      <th>Japan</th>\n",
       "      <td>0.387429</td>\n",
       "      <td>13938.052632</td>\n",
       "      <td>19</td>\n",
       "    </tr>\n",
       "    <tr>\n",
       "      <th>Japan/USA</th>\n",
       "      <td>0.240040</td>\n",
       "      <td>10067.571429</td>\n",
       "      <td>7</td>\n",
       "    </tr>\n",
       "    <tr>\n",
       "      <th>Korea</th>\n",
       "      <td>0.243435</td>\n",
       "      <td>7857.333333</td>\n",
       "      <td>3</td>\n",
       "    </tr>\n",
       "    <tr>\n",
       "      <th>USA</th>\n",
       "      <td>0.203344</td>\n",
       "      <td>12543.269231</td>\n",
       "      <td>26</td>\n",
       "    </tr>\n",
       "  </tbody>\n",
       "</table>\n",
       "</div>"
      ],
      "text/plain": [
       "                Cov          mean  count\n",
       "Country                                 \n",
       "Japan      0.387429  13938.052632     19\n",
       "Japan/USA  0.240040  10067.571429      7\n",
       "Korea      0.243435   7857.333333      3\n",
       "USA        0.203344  12543.269231     26"
      ]
     },
     "execution_count": 15,
     "metadata": {},
     "output_type": "execute_result"
    }
   ],
   "source": [
    "df_1 = df.groupby('Country').filter(lambda x: x.shape[0] > 2).groupby('Country')['Price'].agg([('Cov', lambda x: x.std()/x.mean()), 'mean', 'count'])\n",
    "df_1.head()"
   ]
  },
  {
   "cell_type": "code",
   "execution_count": 16,
   "metadata": {},
   "outputs": [
    {
     "data": {
      "text/plain": [
       "Head     9069.95\n",
       "Mid     13356.40\n",
       "Tail    15420.65\n",
       "Name: Price, dtype: float64"
      ]
     },
     "execution_count": 16,
     "metadata": {},
     "output_type": "execute_result"
    }
   ],
   "source": [
    "condition = ['Head']*20+['Mid']*20+['Tail']*20\n",
    "df.groupby(condition)['Price'].mean()"
   ]
  },
  {
   "cell_type": "code",
   "execution_count": 18,
   "metadata": {},
   "outputs": [
    {
     "data": {
      "text/html": [
       "<div>\n",
       "<style scoped>\n",
       "    .dataframe tbody tr th:only-of-type {\n",
       "        vertical-align: middle;\n",
       "    }\n",
       "\n",
       "    .dataframe tbody tr th {\n",
       "        vertical-align: top;\n",
       "    }\n",
       "\n",
       "    .dataframe thead th {\n",
       "        text-align: right;\n",
       "    }\n",
       "</style>\n",
       "<table border=\"1\" class=\"dataframe\">\n",
       "  <thead>\n",
       "    <tr style=\"text-align: right;\">\n",
       "      <th></th>\n",
       "      <th>Price_max</th>\n",
       "      <th>HP_min</th>\n",
       "    </tr>\n",
       "    <tr>\n",
       "      <th>Type</th>\n",
       "      <th></th>\n",
       "      <th></th>\n",
       "    </tr>\n",
       "  </thead>\n",
       "  <tbody>\n",
       "    <tr>\n",
       "      <th>Compact</th>\n",
       "      <td>18900</td>\n",
       "      <td>95</td>\n",
       "    </tr>\n",
       "    <tr>\n",
       "      <th>Large</th>\n",
       "      <td>17257</td>\n",
       "      <td>150</td>\n",
       "    </tr>\n",
       "    <tr>\n",
       "      <th>Medium</th>\n",
       "      <td>24760</td>\n",
       "      <td>110</td>\n",
       "    </tr>\n",
       "    <tr>\n",
       "      <th>Small</th>\n",
       "      <td>9995</td>\n",
       "      <td>63</td>\n",
       "    </tr>\n",
       "    <tr>\n",
       "      <th>Sporty</th>\n",
       "      <td>13945</td>\n",
       "      <td>92</td>\n",
       "    </tr>\n",
       "    <tr>\n",
       "      <th>Van</th>\n",
       "      <td>15395</td>\n",
       "      <td>106</td>\n",
       "    </tr>\n",
       "  </tbody>\n",
       "</table>\n",
       "</div>"
      ],
      "text/plain": [
       "         Price_max  HP_min\n",
       "Type                      \n",
       "Compact      18900      95\n",
       "Large        17257     150\n",
       "Medium       24760     110\n",
       "Small         9995      63\n",
       "Sporty       13945      92\n",
       "Van          15395     106"
      ]
     },
     "execution_count": 18,
     "metadata": {},
     "output_type": "execute_result"
    }
   ],
   "source": [
    "df_2 = df.groupby('Type').agg({'Price': ['max'], 'HP': ['min']})\n",
    "df_2.columns = df_2.columns.map(lambda x:'_'.join(x))\n",
    "df_2"
   ]
  },
  {
   "cell_type": "code",
   "execution_count": 21,
   "metadata": {},
   "outputs": [
    {
     "data": {
      "text/plain": [
       "0     1.000000\n",
       "1     0.540000\n",
       "2     0.000000\n",
       "3     0.580000\n",
       "4     0.800000\n",
       "5     0.380000\n",
       "6     0.540000\n",
       "7     0.220000\n",
       "8     0.540000\n",
       "9     0.200000\n",
       "10    0.780000\n",
       "11    0.300000\n",
       "12    0.740000\n",
       "13    0.586466\n",
       "14    0.060150\n",
       "15    1.000000\n",
       "16    0.135338\n",
       "17    0.120301\n",
       "18    0.360902\n",
       "19    0.360902\n",
       "20    0.000000\n",
       "21    0.037594\n",
       "22    0.276596\n",
       "23    0.319149\n",
       "24    0.000000\n",
       "25    0.978723\n",
       "26    0.063830\n",
       "27    0.638298\n",
       "28    0.319149\n",
       "29    0.148936\n",
       "30    1.000000\n",
       "31    0.914894\n",
       "32    0.319149\n",
       "33    0.531915\n",
       "34    0.744681\n",
       "35    0.425532\n",
       "36    0.404255\n",
       "37    0.625000\n",
       "38    0.000000\n",
       "39    0.500000\n",
       "40    0.462500\n",
       "41    0.500000\n",
       "42    0.375000\n",
       "43    0.375000\n",
       "44    0.000000\n",
       "45    0.600000\n",
       "46    0.625000\n",
       "47    0.000000\n",
       "48    0.312500\n",
       "49    1.000000\n",
       "50    0.750000\n",
       "51    1.000000\n",
       "52    0.000000\n",
       "53    0.090909\n",
       "54    1.000000\n",
       "55    0.886364\n",
       "56    1.000000\n",
       "57    0.022727\n",
       "58    0.727273\n",
       "59    0.000000\n",
       "Name: HP, dtype: float64"
      ]
     },
     "execution_count": 21,
     "metadata": {},
     "output_type": "execute_result"
    }
   ],
   "source": [
    "df.groupby('Type')['HP'].transform(lambda x: (x - x.min())/(x.max()-x.min()))"
   ]
  },
  {
   "cell_type": "code",
   "execution_count": 22,
   "metadata": {},
   "outputs": [
    {
     "name": "stderr",
     "output_type": "stream",
     "text": [
      "C:\\Users\\wjie\\AppData\\Local\\Temp\\ipykernel_41468\\3602552587.py:1: FutureWarning: Indexing with multiple keys (implicitly converted to a tuple of keys) will be deprecated, use a list instead.\n",
      "  df.groupby('Type')['HP', 'Disp.'].apply(lambda x:np.corrcoef(x['HP'].values, x['Disp.'].values)[0,1])\n"
     ]
    },
    {
     "data": {
      "text/plain": [
       "Type\n",
       "Compact    0.586087\n",
       "Large     -0.242765\n",
       "Medium     0.370491\n",
       "Small      0.603916\n",
       "Sporty     0.871426\n",
       "Van        0.819881\n",
       "dtype: float64"
      ]
     },
     "execution_count": 22,
     "metadata": {},
     "output_type": "execute_result"
    }
   ],
   "source": [
    "df.groupby('Type')['HP', 'Disp.'].apply(lambda x:np.corrcoef(x['HP'].values, x['Disp.'].values)[0,1])"
   ]
  },
  {
   "cell_type": "markdown",
   "metadata": {},
   "source": [
    "### Ex2：实现transform函数\n",
    "* `groupby`对象的构造方法是`my_groupby(df, group_cols)`\n",
    "* 支持单列分组与多列分组\n",
    "* 支持带有标量广播的`my_groupby(df)[col].transform(my_func)`功能\n",
    "* `pandas`的`transform`不能跨列计算，请支持此功能，即仍返回`Series`但`col`参数为多列\n",
    "* 无需考虑性能与异常处理，只需实现上述功能，在给出测试样例的同时与`pandas`中的`transform`对比结果是否一致"
   ]
  },
  {
   "cell_type": "code",
   "execution_count": null,
   "metadata": {},
   "outputs": [],
   "source": [
    "class my_groupby:\n",
    "    \n",
    "    def __init__(self, df, group_cols) -> None:\n",
    "        self.df = df.copy()\n",
    "        self.group_cols = df.columns.tolist()\n",
    "        \n",
    "        \n",
    "    "
   ]
  }
 ],
 "metadata": {
  "kernelspec": {
   "display_name": "Python 3.9.12 ('base')",
   "language": "python",
   "name": "python3"
  },
  "language_info": {
   "codemirror_mode": {
    "name": "ipython",
    "version": 3
   },
   "file_extension": ".py",
   "mimetype": "text/x-python",
   "name": "python",
   "nbconvert_exporter": "python",
   "pygments_lexer": "ipython3",
   "version": "3.9.12"
  },
  "orig_nbformat": 4,
  "vscode": {
   "interpreter": {
    "hash": "e42634819b8c191a5d07eaf23810ff32516dd8d3875f28ec3e488928fbd3c187"
   }
  }
 },
 "nbformat": 4,
 "nbformat_minor": 2
}
